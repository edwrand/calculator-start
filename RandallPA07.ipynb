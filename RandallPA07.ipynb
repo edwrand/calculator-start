{
  "nbformat": 4,
  "nbformat_minor": 0,
  "metadata": {
    "colab": {
      "provenance": [],
      "authorship_tag": "ABX9TyPUJQxWB3oSRuQV70f6VnZs",
      "include_colab_link": true
    },
    "kernelspec": {
      "name": "python3",
      "display_name": "Python 3"
    },
    "language_info": {
      "name": "python"
    }
  },
  "cells": [
    {
      "cell_type": "markdown",
      "metadata": {
        "id": "view-in-github",
        "colab_type": "text"
      },
      "source": [
        "<a href=\"https://colab.research.google.com/github/edwrand/randomPython/blob/main/RandallPA07.ipynb\" target=\"_parent\"><img src=\"https://colab.research.google.com/assets/colab-badge.svg\" alt=\"Open In Colab\"/></a>"
      ]
    },
    {
      "cell_type": "code",
      "execution_count": null,
      "metadata": {
        "colab": {
          "base_uri": "https://localhost:8080/",
          "height": 496
        },
        "id": "Hv5tHbSp-NsY",
        "outputId": "a76b6b5c-0859-420e-9367-43c5c602b43a"
      },
      "outputs": [
        {
          "output_type": "stream",
          "name": "stdout",
          "text": [
            "Enter a year in the range 1903-2009: 204\n",
            "Invalid year\n",
            "Enter a year in the range 1903-2009: 2007\n",
            "The team that won the world series in 2007 is the Boston Red Sox.\n",
            "They won the world series 6 times.\n",
            "Enter a year in the range 1903-2009: 1905\n",
            "The team that won the world series in 1905 is the New York Giants.\n",
            "They won the world series 5 times.\n"
          ]
        },
        {
          "output_type": "error",
          "ename": "KeyboardInterrupt",
          "evalue": "ignored",
          "traceback": [
            "\u001b[0;31m---------------------------------------------------------------------------\u001b[0m",
            "\u001b[0;31mKeyboardInterrupt\u001b[0m                         Traceback (most recent call last)",
            "\u001b[0;32m<ipython-input-1-7fa545050d17>\u001b[0m in \u001b[0;36m<cell line: 44>\u001b[0;34m()\u001b[0m\n\u001b[1;32m     43\u001b[0m \u001b[0;34m\u001b[0m\u001b[0m\n\u001b[1;32m     44\u001b[0m \u001b[0;32mif\u001b[0m \u001b[0m__name__\u001b[0m \u001b[0;34m==\u001b[0m \u001b[0;34m\"__main__\"\u001b[0m\u001b[0;34m:\u001b[0m\u001b[0;34m\u001b[0m\u001b[0;34m\u001b[0m\u001b[0m\n\u001b[0;32m---> 45\u001b[0;31m     \u001b[0mmain\u001b[0m\u001b[0;34m(\u001b[0m\u001b[0;34m)\u001b[0m\u001b[0;34m\u001b[0m\u001b[0;34m\u001b[0m\u001b[0m\n\u001b[0m",
            "\u001b[0;32m<ipython-input-1-7fa545050d17>\u001b[0m in \u001b[0;36mmain\u001b[0;34m()\u001b[0m\n\u001b[1;32m     40\u001b[0m     \u001b[0myear_winner_dict\u001b[0m\u001b[0;34m,\u001b[0m \u001b[0mteam_wins_dict\u001b[0m \u001b[0;34m=\u001b[0m \u001b[0mbuild_dicts\u001b[0m\u001b[0;34m(\u001b[0m\u001b[0mwinners\u001b[0m\u001b[0;34m)\u001b[0m\u001b[0;34m\u001b[0m\u001b[0;34m\u001b[0m\u001b[0m\n\u001b[1;32m     41\u001b[0m     \u001b[0;32mwhile\u001b[0m \u001b[0;32mTrue\u001b[0m\u001b[0;34m:\u001b[0m\u001b[0;34m\u001b[0m\u001b[0;34m\u001b[0m\u001b[0m\n\u001b[0;32m---> 42\u001b[0;31m         \u001b[0muser_interact\u001b[0m\u001b[0;34m(\u001b[0m\u001b[0myear_winner_dict\u001b[0m\u001b[0;34m,\u001b[0m \u001b[0mteam_wins_dict\u001b[0m\u001b[0;34m)\u001b[0m\u001b[0;34m\u001b[0m\u001b[0;34m\u001b[0m\u001b[0m\n\u001b[0m\u001b[1;32m     43\u001b[0m \u001b[0;34m\u001b[0m\u001b[0m\n\u001b[1;32m     44\u001b[0m \u001b[0;32mif\u001b[0m \u001b[0m__name__\u001b[0m \u001b[0;34m==\u001b[0m \u001b[0;34m\"__main__\"\u001b[0m\u001b[0;34m:\u001b[0m\u001b[0;34m\u001b[0m\u001b[0;34m\u001b[0m\u001b[0m\n",
            "\u001b[0;32m<ipython-input-1-7fa545050d17>\u001b[0m in \u001b[0;36muser_interact\u001b[0;34m(year_winner_dict, team_wins_dict)\u001b[0m\n\u001b[1;32m     22\u001b[0m \u001b[0;34m\u001b[0m\u001b[0m\n\u001b[1;32m     23\u001b[0m \u001b[0;32mdef\u001b[0m \u001b[0muser_interact\u001b[0m\u001b[0;34m(\u001b[0m\u001b[0myear_winner_dict\u001b[0m\u001b[0;34m,\u001b[0m \u001b[0mteam_wins_dict\u001b[0m\u001b[0;34m)\u001b[0m\u001b[0;34m:\u001b[0m\u001b[0;34m\u001b[0m\u001b[0;34m\u001b[0m\u001b[0m\n\u001b[0;32m---> 24\u001b[0;31m     \u001b[0myear\u001b[0m \u001b[0;34m=\u001b[0m \u001b[0minput\u001b[0m\u001b[0;34m(\u001b[0m\u001b[0;34m\"Enter a year in the range 1903-2009: \"\u001b[0m\u001b[0;34m)\u001b[0m\u001b[0;34m\u001b[0m\u001b[0;34m\u001b[0m\u001b[0m\n\u001b[0m\u001b[1;32m     25\u001b[0m     \u001b[0;32mif\u001b[0m \u001b[0myear\u001b[0m \u001b[0;34m==\u001b[0m \u001b[0;34m\"1904\"\u001b[0m \u001b[0;32mor\u001b[0m \u001b[0myear\u001b[0m \u001b[0;34m==\u001b[0m \u001b[0;34m\"1994\"\u001b[0m\u001b[0;34m:\u001b[0m\u001b[0;34m\u001b[0m\u001b[0;34m\u001b[0m\u001b[0m\n\u001b[1;32m     26\u001b[0m         \u001b[0mprint\u001b[0m\u001b[0;34m(\u001b[0m\u001b[0;34m\"The world series wasn't played in the year\"\u001b[0m\u001b[0;34m,\u001b[0m \u001b[0myear\u001b[0m\u001b[0;34m)\u001b[0m\u001b[0;34m\u001b[0m\u001b[0;34m\u001b[0m\u001b[0m\n",
            "\u001b[0;32m/usr/local/lib/python3.9/dist-packages/ipykernel/kernelbase.py\u001b[0m in \u001b[0;36mraw_input\u001b[0;34m(self, prompt)\u001b[0m\n\u001b[1;32m    849\u001b[0m                 \u001b[0;34m\"raw_input was called, but this frontend does not support input requests.\"\u001b[0m\u001b[0;34m\u001b[0m\u001b[0;34m\u001b[0m\u001b[0m\n\u001b[1;32m    850\u001b[0m             )\n\u001b[0;32m--> 851\u001b[0;31m         return self._input_request(str(prompt),\n\u001b[0m\u001b[1;32m    852\u001b[0m             \u001b[0mself\u001b[0m\u001b[0;34m.\u001b[0m\u001b[0m_parent_ident\u001b[0m\u001b[0;34m,\u001b[0m\u001b[0;34m\u001b[0m\u001b[0;34m\u001b[0m\u001b[0m\n\u001b[1;32m    853\u001b[0m             \u001b[0mself\u001b[0m\u001b[0;34m.\u001b[0m\u001b[0m_parent_header\u001b[0m\u001b[0;34m,\u001b[0m\u001b[0;34m\u001b[0m\u001b[0;34m\u001b[0m\u001b[0m\n",
            "\u001b[0;32m/usr/local/lib/python3.9/dist-packages/ipykernel/kernelbase.py\u001b[0m in \u001b[0;36m_input_request\u001b[0;34m(self, prompt, ident, parent, password)\u001b[0m\n\u001b[1;32m    893\u001b[0m             \u001b[0;32mexcept\u001b[0m \u001b[0mKeyboardInterrupt\u001b[0m\u001b[0;34m:\u001b[0m\u001b[0;34m\u001b[0m\u001b[0;34m\u001b[0m\u001b[0m\n\u001b[1;32m    894\u001b[0m                 \u001b[0;31m# re-raise KeyboardInterrupt, to truncate traceback\u001b[0m\u001b[0;34m\u001b[0m\u001b[0;34m\u001b[0m\u001b[0m\n\u001b[0;32m--> 895\u001b[0;31m                 \u001b[0;32mraise\u001b[0m \u001b[0mKeyboardInterrupt\u001b[0m\u001b[0;34m(\u001b[0m\u001b[0;34m\"Interrupted by user\"\u001b[0m\u001b[0;34m)\u001b[0m \u001b[0;32mfrom\u001b[0m \u001b[0;32mNone\u001b[0m\u001b[0;34m\u001b[0m\u001b[0;34m\u001b[0m\u001b[0m\n\u001b[0m\u001b[1;32m    896\u001b[0m             \u001b[0;32mexcept\u001b[0m \u001b[0mException\u001b[0m \u001b[0;32mas\u001b[0m \u001b[0me\u001b[0m\u001b[0;34m:\u001b[0m\u001b[0;34m\u001b[0m\u001b[0;34m\u001b[0m\u001b[0m\n\u001b[1;32m    897\u001b[0m                 \u001b[0mself\u001b[0m\u001b[0;34m.\u001b[0m\u001b[0mlog\u001b[0m\u001b[0;34m.\u001b[0m\u001b[0mwarning\u001b[0m\u001b[0;34m(\u001b[0m\u001b[0;34m\"Invalid Message:\"\u001b[0m\u001b[0;34m,\u001b[0m \u001b[0mexc_info\u001b[0m\u001b[0;34m=\u001b[0m\u001b[0;32mTrue\u001b[0m\u001b[0;34m)\u001b[0m\u001b[0;34m\u001b[0m\u001b[0;34m\u001b[0m\u001b[0m\n",
            "\u001b[0;31mKeyboardInterrupt\u001b[0m: Interrupted by user"
          ]
        }
      ],
      "source": [
        "# Edward Randall - Python for Data Analytics\n",
        "# program 1 HW 7\n",
        "\n",
        "import requests\n",
        "\n",
        "def build_dicts(winners):\n",
        "    year_winner_dict = {}\n",
        "    team_wins_dict = {}\n",
        "    year = 1903\n",
        "\n",
        "    for team in winners:\n",
        "        if year == 1904 or year == 1994:\n",
        "            year += 1\n",
        "        year_winner_dict[str(year)] = team\n",
        "        if team in team_wins_dict:\n",
        "            team_wins_dict[team] += 1\n",
        "        else:\n",
        "            team_wins_dict[team] = 1\n",
        "        year += 1\n",
        "\n",
        "    return year_winner_dict, team_wins_dict\n",
        "\n",
        "def user_interact(year_winner_dict, team_wins_dict):\n",
        "    year = input(\"Enter a year in the range 1903-2009: \")\n",
        "    if year == \"1904\" or year == \"1994\":\n",
        "        print(\"The world series wasn't played in the year\", year)\n",
        "    elif 1903 <= int(year) <= 2009:\n",
        "        team = year_winner_dict[year]\n",
        "        num_wins = team_wins_dict[team]\n",
        "        print(f\"The team that won the world series in {year} is the {team}.\")\n",
        "        print(f\"They won the world series {num_wins} times.\")\n",
        "    else:\n",
        "        print(\"Invalid year\")\n",
        "\n",
        "def main():\n",
        "    # using url get instead of downloading the file. if the url does not work put the file in the same directory\n",
        "    url = \"http://csfaculty.tcu.edu/ma/cosc10603/data/WorldSeriesWinners.txt\"\n",
        "    response = requests.get(url)\n",
        "    winners = response.text.strip().split(\"\\n\")\n",
        "\n",
        "    year_winner_dict, team_wins_dict = build_dicts(winners)\n",
        "    while True:\n",
        "        user_interact(year_winner_dict, team_wins_dict)\n",
        "\n",
        "if __name__ == \"__main__\":\n",
        "    main()\n"
      ]
    },
    {
      "cell_type": "code",
      "source": [
        "# Homework problem #2\n",
        "\n",
        "# defining some functions to be reused in the program\n",
        "def display_menu():\n",
        "    print(\"Menu\")\n",
        "    print(\"1. Look up an email address\")\n",
        "    print(\"2. Add a new name and email address\")\n",
        "    print(\"3. Change an existing email address\")\n",
        "    print(\"4. Delete a name and email address\")\n",
        "    print(\"5. Quit the program\")\n",
        "\n",
        "def look_up_email(email_dict):\n",
        "    name = input(\"Enter a name to be looked up: \")\n",
        "    if name in email_dict:\n",
        "        print(f\"Name: {name}\")\n",
        "        print(f\"Email: {email_dict[name]}\")\n",
        "    else:\n",
        "        print(\"Name not found.\")\n",
        "\n",
        "def add_email(email_dict):\n",
        "    name = input(\"Enter the name to be added: \")\n",
        "    email = input(\"Enter the email address: \")\n",
        "    email_dict[name] = email\n",
        "    print(\"Name and address have been added.\")\n",
        "\n",
        "def change_email(email_dict):\n",
        "    name = input(\"Enter a name to change email address: \")\n",
        "    if name in email_dict:\n",
        "        new_email = input(\"Enter the new email address: \")\n",
        "        email_dict[name] = new_email\n",
        "        print(\"Email address has been changed.\")\n",
        "    else:\n",
        "        print(\"Name not found.\")\n",
        "\n",
        "def delete_email(email_dict):\n",
        "    name = input(\"Enter a name to delete email address: \")\n",
        "    if name in email_dict:\n",
        "        del email_dict[name]\n",
        "        print(\"Name and email address have been deleted.\")\n",
        "    else:\n",
        "        print(\"Name not found.\")\n",
        "\n",
        "# main init and beginning email dict\n",
        "def main():\n",
        "    email_dict = {\n",
        "        \"Joe Smith\": \"j.smith@tcu.edu\",\n",
        "        \"Bruce Lee\": \"b.lee@tcu.edu\",\n",
        "        \"Super Frog\": \"s.frog@tcu.edu\",\n",
        "        \"Victor Hall\": \"v.hall@tcu.edu\",\n",
        "    }\n",
        "\n",
        "# keep the program running until user enters 5 or there is a bug\n",
        "    while True:\n",
        "        display_menu()\n",
        "        choice = int(input(\"Enter your choice: \"))\n",
        "\n",
        "        if choice == 1:\n",
        "            look_up_email(email_dict)\n",
        "        elif choice == 2:\n",
        "            add_email(email_dict)\n",
        "        elif choice == 3:\n",
        "            change_email(email_dict)\n",
        "        elif choice == 4:\n",
        "            delete_email(email_dict)\n",
        "        elif choice == 5:\n",
        "            print(\"Goodbye!\")\n",
        "            break\n",
        "        else:\n",
        "            print(\"Invalid choice\")\n",
        "\n",
        "if __name__ == \"__main__\":\n",
        "    main()\n"
      ],
      "metadata": {
        "colab": {
          "base_uri": "https://localhost:8080/",
          "height": 639
        },
        "id": "PuQkmksSADtS",
        "outputId": "36ad8d7b-e09d-4e58-cb56-addb3d37e50e"
      },
      "execution_count": null,
      "outputs": [
        {
          "output_type": "stream",
          "name": "stdout",
          "text": [
            "Menu\n",
            "1. Look up an email address\n",
            "2. Add a new name and email address\n",
            "3. Change an existing email address\n",
            "4. Delete a name and email address\n",
            "5. Quit the program\n",
            "Enter your choice: 2\n",
            "Enter the name to be added: Bobbie\n",
            "Enter the email address: 5\n",
            "Name and address have been added.\n",
            "Menu\n",
            "1. Look up an email address\n",
            "2. Add a new name and email address\n",
            "3. Change an existing email address\n",
            "4. Delete a name and email address\n",
            "5. Quit the program\n"
          ]
        },
        {
          "output_type": "error",
          "ename": "KeyboardInterrupt",
          "evalue": "ignored",
          "traceback": [
            "\u001b[0;31m---------------------------------------------------------------------------\u001b[0m",
            "\u001b[0;31mKeyboardInterrupt\u001b[0m                         Traceback (most recent call last)",
            "\u001b[0;32m<ipython-input-4-336b028765d1>\u001b[0m in \u001b[0;36m<cell line: 68>\u001b[0;34m()\u001b[0m\n\u001b[1;32m     67\u001b[0m \u001b[0;34m\u001b[0m\u001b[0m\n\u001b[1;32m     68\u001b[0m \u001b[0;32mif\u001b[0m \u001b[0m__name__\u001b[0m \u001b[0;34m==\u001b[0m \u001b[0;34m\"__main__\"\u001b[0m\u001b[0;34m:\u001b[0m\u001b[0;34m\u001b[0m\u001b[0;34m\u001b[0m\u001b[0m\n\u001b[0;32m---> 69\u001b[0;31m     \u001b[0mmain\u001b[0m\u001b[0;34m(\u001b[0m\u001b[0;34m)\u001b[0m\u001b[0;34m\u001b[0m\u001b[0;34m\u001b[0m\u001b[0m\n\u001b[0m",
            "\u001b[0;32m<ipython-input-4-336b028765d1>\u001b[0m in \u001b[0;36mmain\u001b[0;34m()\u001b[0m\n\u001b[1;32m     50\u001b[0m     \u001b[0;32mwhile\u001b[0m \u001b[0;32mTrue\u001b[0m\u001b[0;34m:\u001b[0m\u001b[0;34m\u001b[0m\u001b[0;34m\u001b[0m\u001b[0m\n\u001b[1;32m     51\u001b[0m         \u001b[0mdisplay_menu\u001b[0m\u001b[0;34m(\u001b[0m\u001b[0;34m)\u001b[0m\u001b[0;34m\u001b[0m\u001b[0;34m\u001b[0m\u001b[0m\n\u001b[0;32m---> 52\u001b[0;31m         \u001b[0mchoice\u001b[0m \u001b[0;34m=\u001b[0m \u001b[0mint\u001b[0m\u001b[0;34m(\u001b[0m\u001b[0minput\u001b[0m\u001b[0;34m(\u001b[0m\u001b[0;34m\"Enter your choice: \"\u001b[0m\u001b[0;34m)\u001b[0m\u001b[0;34m)\u001b[0m\u001b[0;34m\u001b[0m\u001b[0;34m\u001b[0m\u001b[0m\n\u001b[0m\u001b[1;32m     53\u001b[0m \u001b[0;34m\u001b[0m\u001b[0m\n\u001b[1;32m     54\u001b[0m         \u001b[0;32mif\u001b[0m \u001b[0mchoice\u001b[0m \u001b[0;34m==\u001b[0m \u001b[0;36m1\u001b[0m\u001b[0;34m:\u001b[0m\u001b[0;34m\u001b[0m\u001b[0;34m\u001b[0m\u001b[0m\n",
            "\u001b[0;32m/usr/local/lib/python3.9/dist-packages/ipykernel/kernelbase.py\u001b[0m in \u001b[0;36mraw_input\u001b[0;34m(self, prompt)\u001b[0m\n\u001b[1;32m    849\u001b[0m                 \u001b[0;34m\"raw_input was called, but this frontend does not support input requests.\"\u001b[0m\u001b[0;34m\u001b[0m\u001b[0;34m\u001b[0m\u001b[0m\n\u001b[1;32m    850\u001b[0m             )\n\u001b[0;32m--> 851\u001b[0;31m         return self._input_request(str(prompt),\n\u001b[0m\u001b[1;32m    852\u001b[0m             \u001b[0mself\u001b[0m\u001b[0;34m.\u001b[0m\u001b[0m_parent_ident\u001b[0m\u001b[0;34m,\u001b[0m\u001b[0;34m\u001b[0m\u001b[0;34m\u001b[0m\u001b[0m\n\u001b[1;32m    853\u001b[0m             \u001b[0mself\u001b[0m\u001b[0;34m.\u001b[0m\u001b[0m_parent_header\u001b[0m\u001b[0;34m,\u001b[0m\u001b[0;34m\u001b[0m\u001b[0;34m\u001b[0m\u001b[0m\n",
            "\u001b[0;32m/usr/local/lib/python3.9/dist-packages/ipykernel/kernelbase.py\u001b[0m in \u001b[0;36m_input_request\u001b[0;34m(self, prompt, ident, parent, password)\u001b[0m\n\u001b[1;32m    893\u001b[0m             \u001b[0;32mexcept\u001b[0m \u001b[0mKeyboardInterrupt\u001b[0m\u001b[0;34m:\u001b[0m\u001b[0;34m\u001b[0m\u001b[0;34m\u001b[0m\u001b[0m\n\u001b[1;32m    894\u001b[0m                 \u001b[0;31m# re-raise KeyboardInterrupt, to truncate traceback\u001b[0m\u001b[0;34m\u001b[0m\u001b[0;34m\u001b[0m\u001b[0m\n\u001b[0;32m--> 895\u001b[0;31m                 \u001b[0;32mraise\u001b[0m \u001b[0mKeyboardInterrupt\u001b[0m\u001b[0;34m(\u001b[0m\u001b[0;34m\"Interrupted by user\"\u001b[0m\u001b[0;34m)\u001b[0m \u001b[0;32mfrom\u001b[0m \u001b[0;32mNone\u001b[0m\u001b[0;34m\u001b[0m\u001b[0;34m\u001b[0m\u001b[0m\n\u001b[0m\u001b[1;32m    896\u001b[0m             \u001b[0;32mexcept\u001b[0m \u001b[0mException\u001b[0m \u001b[0;32mas\u001b[0m \u001b[0me\u001b[0m\u001b[0;34m:\u001b[0m\u001b[0;34m\u001b[0m\u001b[0;34m\u001b[0m\u001b[0m\n\u001b[1;32m    897\u001b[0m                 \u001b[0mself\u001b[0m\u001b[0;34m.\u001b[0m\u001b[0mlog\u001b[0m\u001b[0;34m.\u001b[0m\u001b[0mwarning\u001b[0m\u001b[0;34m(\u001b[0m\u001b[0;34m\"Invalid Message:\"\u001b[0m\u001b[0;34m,\u001b[0m \u001b[0mexc_info\u001b[0m\u001b[0;34m=\u001b[0m\u001b[0;32mTrue\u001b[0m\u001b[0;34m)\u001b[0m\u001b[0;34m\u001b[0m\u001b[0;34m\u001b[0m\u001b[0m\n",
            "\u001b[0;31mKeyboardInterrupt\u001b[0m: Interrupted by user"
          ]
        }
      ]
    }
  ]
}