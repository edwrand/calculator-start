{
  "nbformat": 4,
  "nbformat_minor": 0,
  "metadata": {
    "colab": {
      "provenance": [],
      "authorship_tag": "ABX9TyOcvjreZ6czdvtNfOJ7Kgh1"
    },
    "kernelspec": {
      "name": "python3",
      "display_name": "Python 3"
    },
    "language_info": {
      "name": "python"
    }
  },
  "cells": [
    {
      "cell_type": "code",
      "execution_count": 8,
      "metadata": {
        "colab": {
          "base_uri": "https://localhost:8080/",
          "height": 581
        },
        "id": "kwYCxb7KZHgr",
        "outputId": "62fb39c5-8e86-417d-88fb-ba7dc3bc99cb"
      },
      "outputs": [
        {
          "output_type": "stream",
          "name": "stdout",
          "text": [
            "Min Score: 0, Max Score: 96, Average Score: 47.74\n",
            "Range Counts: [3, 4, 4, 2, 7, 3, 4, 2, 2, 4, 0]\n"
          ]
        },
        {
          "output_type": "display_data",
          "data": {
            "text/plain": [
              "<Figure size 432x288 with 1 Axes>"
            ],
            "image/png": "[encoded data removed]"
          },
          "metadata": {
            "needs_background": "light"
          }
        },
        {
          "output_type": "stream",
          "name": "stdout",
          "text": [
            "Cumulative Grade Percentages:\n",
            "100: 0.00% made at least a 100\n",
            "90: 11.43% made at least a 90\n",
            "80: 17.14% made at least a 80\n",
            "70: 22.86% made at least a 70\n",
            "60: 34.29% made at least a 60\n",
            "50: 42.86% made at least a 50\n",
            "40: 62.86% made at least a 40\n",
            "30: 68.57% made at least a 30\n",
            "20: 80.00% made at least a 20\n",
            "10: 91.43% made at least a 10\n",
            "0: 100.00% made at least a 0\n"
          ]
        },
        {
          "output_type": "execute_result",
          "data": {
            "text/plain": [
              "'\\nMin Score: 1, Max Score: 97, Average Score: 45.66\\nRange Counts: [6, 4, 2, 2, 3, 5, 6, 3, 3, 1, 0]\\n\\nCumulative Grade Percentages:\\n100: 0.00%\\n90: 2.86%\\n80: 11.43%\\n70: 20.00%\\n60: 37.14%\\n50: 51.43%\\n40: 60.00%\\n30: 65.71%\\n20: 71.43%\\n10: 82.86%\\n0: 100.00%\\n'"
            ],
            "application/vnd.google.colaboratory.intrinsic+json": {
              "type": "string"
            }
          },
          "metadata": {},
          "execution_count": 8
        }
      ],
      "source": [
        "#################################\n",
        "#\n",
        "# Edward Randall\n",
        "# Intro to Python for Data Analytics\n",
        "# Project 5\n",
        "#\n",
        "#################################\n",
        "\n",
        "\n",
        "#################################\n",
        "# Imports\n",
        "#################################\n",
        "import random\n",
        "import matplotlib.pyplot as plt\n",
        "\n",
        "\n",
        "#################################\n",
        "# Constants\n",
        "#################################\n",
        "NUMSCORES = 35\n",
        "MAXSCORE = 100\n",
        "MINSCORE = 0\n",
        "\n",
        "\n",
        "#################################\n",
        "# Generate Scores List Function\n",
        "#\n",
        "# This function will create a list of NUMSCORES random\n",
        "# scores in the range [MINSCORE..MAXSCORE].  The function\n",
        "# will then return the list.\n",
        "#################################\n",
        "import random\n",
        "import matplotlib.pyplot as plt\n",
        "\n",
        "MIN_SCORE = 0\n",
        "MAX_SCORE = 100\n",
        "NUM_SCORES = 35\n",
        "\n",
        "# generating my list of random scores for analysis\n",
        "def generate_scores():\n",
        "    return [random.randint(MIN_SCORE, MAX_SCORE) for _ in range(NUM_SCORES)]\n",
        "\n",
        "# using functions to extract min max sum and length\n",
        "def min_max_avg(scores):\n",
        "    return min(scores), max(scores), sum(scores) / len(scores)\n",
        "\n",
        "# counting range\n",
        "def range_counts(scores):\n",
        "    counts = [0] * 11\n",
        "    for score in scores:\n",
        "        counts[score // 10] += 1\n",
        "    return counts\n",
        "\n",
        "# plotting using Matplotlib\n",
        "# naming labels\n",
        "def plot_bar_chart(range_counts):\n",
        "    plt.bar(range(0, 110, 10), range_counts)\n",
        "    plt.xlabel('Score Ranges')\n",
        "    plt.ylabel('Number of Students')\n",
        "    plt.title('Score Distribution')\n",
        "    plt.show()\n",
        "\n",
        "# calculates the cumulative grade percentages for each score range\n",
        "def cumulative_grade_percentages(scores, range_counts):\n",
        "    percentages = []\n",
        "    cumulative_count = 0\n",
        "    total_count = len(scores)\n",
        "    \n",
        "    for i in range(len(range_counts)-1, -1, -1):\n",
        "        cumulative_count += range_counts[i]\n",
        "        percentage = (cumulative_count / total_count) * 100\n",
        "        percentages.append((i * 10, percentage))\n",
        "        \n",
        "    return percentages\n",
        "\n",
        "# main function calling the other previously defined functions\n",
        "def main():\n",
        "    scores = generate_scores()\n",
        "    min_score, max_score, avg_score = min_max_avg(scores)\n",
        "    counts = range_counts(scores)\n",
        "    print(f'Min Score: {min_score}, Max Score: {max_score}, Average Score: {avg_score:.2f}')\n",
        "    print(f'Range Counts: {counts}')\n",
        "    plot_bar_chart(counts)\n",
        "    percentages = cumulative_grade_percentages(scores, counts)\n",
        "    print('Cumulative Grade Percentages:')\n",
        "    for score, percentage in percentages:\n",
        "        print(f'{score}: {percentage:.2f}% made at least a {score}')\n",
        "        if percentage == 100:\n",
        "            break\n",
        "\n",
        "if __name__ == \"__main__\":\n",
        "    main()\n",
        "\n",
        "\n",
        "# sample output:\n",
        "'''\n",
        "Min Score: 1, Max Score: 97, Average Score: 45.66\n",
        "Range Counts: [6, 4, 2, 2, 3, 5, 6, 3, 3, 1, 0]\n",
        "\n",
        "Cumulative Grade Percentages:\n",
        "100: 0.00%\n",
        "90: 2.86%\n",
        "80: 11.43%\n",
        "70: 20.00%\n",
        "60: 37.14%\n",
        "50: 51.43%\n",
        "40: 60.00%\n",
        "30: 65.71%\n",
        "20: 71.43%\n",
        "10: 82.86%\n",
        "0: 100.00%\n",
        "'''"
      ]
    }
  ]
}