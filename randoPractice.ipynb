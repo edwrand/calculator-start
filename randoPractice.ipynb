{
  "nbformat": 4,
  "nbformat_minor": 0,
  "metadata": {
    "colab": {
      "provenance": [],
      "authorship_tag": "ABX9TyMdcRrSWqJDQWrPaSnHVmg0",
      "include_colab_link": true
    },
    "kernelspec": {
      "name": "python3",
      "display_name": "Python 3"
    },
    "language_info": {
      "name": "python"
    }
  },
  "cells": [
    {
      "cell_type": "markdown",
      "metadata": {
        "id": "view-in-github",
        "colab_type": "text"
      },
      "source": [
        "<a href=\"https://colab.research.google.com/github/edwrand/randomPython/blob/main/randoPractice.ipynb\" target=\"_parent\"><img src=\"https://colab.research.google.com/assets/colab-badge.svg\" alt=\"Open In Colab\"/></a>"
      ]
    },
    {
      "cell_type": "code",
      "execution_count": null,
      "metadata": {
        "colab": {
          "base_uri": "https://localhost:8080/",
          "height": 389
        },
        "id": "PH9DWYbx0weP",
        "outputId": "8be98741-b3ef-43f1-8aaf-ac69a9e78070"
      },
      "outputs": [
        {
          "output_type": "error",
          "ename": "KeyboardInterrupt",
          "evalue": "ignored",
          "traceback": [
            "\u001b[0;31m---------------------------------------------------------------------------\u001b[0m",
            "\u001b[0;31mKeyboardInterrupt\u001b[0m                         Traceback (most recent call last)",
            "\u001b[0;32m<ipython-input-14-3097b2e40fd7>\u001b[0m in \u001b[0;36m<module>\u001b[0;34m\u001b[0m\n\u001b[1;32m      2\u001b[0m \u001b[0;31m# part 1 - Word Game\u001b[0m\u001b[0;34m\u001b[0m\u001b[0;34m\u001b[0m\u001b[0;34m\u001b[0m\u001b[0m\n\u001b[1;32m      3\u001b[0m \u001b[0;34m\u001b[0m\u001b[0m\n\u001b[0;32m----> 4\u001b[0;31m \u001b[0mfirst_name\u001b[0m \u001b[0;34m=\u001b[0m \u001b[0minput\u001b[0m\u001b[0;34m(\u001b[0m\u001b[0;34m\"Enter your first name: \"\u001b[0m\u001b[0;34m)\u001b[0m\u001b[0;34m\u001b[0m\u001b[0;34m\u001b[0m\u001b[0m\n\u001b[0m\u001b[1;32m      5\u001b[0m \u001b[0mlast_name\u001b[0m \u001b[0;34m=\u001b[0m \u001b[0minput\u001b[0m\u001b[0;34m(\u001b[0m\u001b[0;34m\"Enter your last name: \"\u001b[0m\u001b[0;34m)\u001b[0m\u001b[0;34m\u001b[0m\u001b[0;34m\u001b[0m\u001b[0m\n\u001b[1;32m      6\u001b[0m \u001b[0mage\u001b[0m \u001b[0;34m=\u001b[0m \u001b[0mint\u001b[0m\u001b[0;34m(\u001b[0m\u001b[0minput\u001b[0m\u001b[0;34m(\u001b[0m\u001b[0;34m\"Enter your age: \"\u001b[0m\u001b[0;34m)\u001b[0m\u001b[0;34m)\u001b[0m\u001b[0;34m\u001b[0m\u001b[0;34m\u001b[0m\u001b[0m\n",
            "\u001b[0;32m/usr/local/lib/python3.8/dist-packages/ipykernel/kernelbase.py\u001b[0m in \u001b[0;36mraw_input\u001b[0;34m(self, prompt)\u001b[0m\n\u001b[1;32m    858\u001b[0m                 \u001b[0;34m\"raw_input was called, but this frontend does not support input requests.\"\u001b[0m\u001b[0;34m\u001b[0m\u001b[0;34m\u001b[0m\u001b[0m\n\u001b[1;32m    859\u001b[0m             )\n\u001b[0;32m--> 860\u001b[0;31m         return self._input_request(str(prompt),\n\u001b[0m\u001b[1;32m    861\u001b[0m             \u001b[0mself\u001b[0m\u001b[0;34m.\u001b[0m\u001b[0m_parent_ident\u001b[0m\u001b[0;34m,\u001b[0m\u001b[0;34m\u001b[0m\u001b[0;34m\u001b[0m\u001b[0m\n\u001b[1;32m    862\u001b[0m             \u001b[0mself\u001b[0m\u001b[0;34m.\u001b[0m\u001b[0m_parent_header\u001b[0m\u001b[0;34m,\u001b[0m\u001b[0;34m\u001b[0m\u001b[0;34m\u001b[0m\u001b[0m\n",
            "\u001b[0;32m/usr/local/lib/python3.8/dist-packages/ipykernel/kernelbase.py\u001b[0m in \u001b[0;36m_input_request\u001b[0;34m(self, prompt, ident, parent, password)\u001b[0m\n\u001b[1;32m    902\u001b[0m             \u001b[0;32mexcept\u001b[0m \u001b[0mKeyboardInterrupt\u001b[0m\u001b[0;34m:\u001b[0m\u001b[0;34m\u001b[0m\u001b[0;34m\u001b[0m\u001b[0m\n\u001b[1;32m    903\u001b[0m                 \u001b[0;31m# re-raise KeyboardInterrupt, to truncate traceback\u001b[0m\u001b[0;34m\u001b[0m\u001b[0;34m\u001b[0m\u001b[0;34m\u001b[0m\u001b[0m\n\u001b[0;32m--> 904\u001b[0;31m                 \u001b[0;32mraise\u001b[0m \u001b[0mKeyboardInterrupt\u001b[0m\u001b[0;34m(\u001b[0m\u001b[0;34m\"Interrupted by user\"\u001b[0m\u001b[0;34m)\u001b[0m \u001b[0;32mfrom\u001b[0m \u001b[0;32mNone\u001b[0m\u001b[0;34m\u001b[0m\u001b[0;34m\u001b[0m\u001b[0m\n\u001b[0m\u001b[1;32m    905\u001b[0m             \u001b[0;32mexcept\u001b[0m \u001b[0mException\u001b[0m \u001b[0;32mas\u001b[0m \u001b[0me\u001b[0m\u001b[0;34m:\u001b[0m\u001b[0;34m\u001b[0m\u001b[0;34m\u001b[0m\u001b[0m\n\u001b[1;32m    906\u001b[0m                 \u001b[0mself\u001b[0m\u001b[0;34m.\u001b[0m\u001b[0mlog\u001b[0m\u001b[0;34m.\u001b[0m\u001b[0mwarning\u001b[0m\u001b[0;34m(\u001b[0m\u001b[0;34m\"Invalid Message:\"\u001b[0m\u001b[0;34m,\u001b[0m \u001b[0mexc_info\u001b[0m\u001b[0;34m=\u001b[0m\u001b[0;32mTrue\u001b[0m\u001b[0;34m)\u001b[0m\u001b[0;34m\u001b[0m\u001b[0;34m\u001b[0m\u001b[0m\n",
            "\u001b[0;31mKeyboardInterrupt\u001b[0m: Interrupted by user"
          ]
        }
      ],
      "source": [
        "# project01\n",
        "# part 1 - Word Game\n",
        "\n",
        "first_name = input(\"Enter your first name: \")\n",
        "last_name = input(\"Enter your last name: \")\n",
        "age = int(input(\"Enter your age: \"))\n",
        "city = input(\"What city are you in?:  \")\n",
        "college = input(\"What school are you in?:  \")\n",
        "profession = input(\"What is your profession?:  \")\n",
        "animal = input(\"Enter the name of an animal:  \")\n",
        "pet = input(\"Enter a pet name:  \")\n",
        "\n",
        "# printing using the input values\n",
        "print(f\"There once was a person named {first_name} {last_name} who lived in {city}. At the age of {age}, {first_name} went to college at {college}. {first_name} graduated and went to work as a {profession}. Then, {first_name} adopted a(n) {animal} named {pet}. They both lived happily ever after!\")"
      ]
    },
    {
      "cell_type": "code",
      "source": [
        "# part 2 - Cost of Tuition\n",
        "\n",
        "start_year = int(input(\"What year did you start college?: \"))\n",
        "projected_final_year = start_year + 4\n",
        "\n",
        "# asking the user for inputs\n",
        "print(\"Please input the cost of 1 year for each item\")\n",
        "tuition = int(input(\"How much is tuition yearly? $\"))\n",
        "fees = int(input(\"How much are fees yearly? $\"))\n",
        "dorm_room = int(input(\"How much is housing yearly? $\"))\n",
        "dining_hall = int(input(\"How much is dining yearly? $\"))\n",
        "books = int(input(\"How much are books yearly? $\"))\n",
        "\n",
        "# calc a year and 4 years\n",
        "year_cost = tuition + fees + dorm_room + dining_hall + books\n",
        "four_years = year_cost * 4\n",
        "\n",
        "# what is the cost of last 2 years at TCU?\n",
        "two_year_cost = year_cost * 2\n",
        "print(f\"One year costs ${year_cost}.\")\n",
        "print(f\"Two years cost ${two_year_cost}.\")\n",
        "\n",
        "# function\n",
        "def how_long_pay_back(two_year_cost):\n",
        "  months = two_year_cost / 500\n",
        "  return months\n",
        "\n",
        "# print out the number of months it takes to pay back the loan\\\n",
        "print(f\"It will take you {how_long_pay_back(two_year_cost)} months to pay back your loan.\")"
      ],
      "metadata": {
        "colab": {
          "base_uri": "https://localhost:8080/"
        },
        "id": "KFqV5tyd2hgz",
        "outputId": "8ca149f9-7287-40d4-917d-00206d39fc37"
      },
      "execution_count": null,
      "outputs": [
        {
          "output_type": "stream",
          "name": "stdout",
          "text": [
            "What year did you start college?: 2018\n",
            "Please input the cost of 1 year for each item\n",
            "How much is tuition yearly? $57000\n",
            "How much are fees yearly? $800\n",
            "How much is housing yearly? $8700\n",
            "How much is dining yearly? $6100\n",
            "How much are books yearly? $900\n",
            "One year costs $73500.\n",
            "Two years cost $147000.\n",
            "It will take you 294.0 months to pay back your loan.\n"
          ]
        }
      ]
    },
    {
      "cell_type": "code",
      "source": [
        "# part 3 - Celcius to Fahrenheit Converter\n",
        "C = int(input(\"Enter a degree of Celcius: \"))\n",
        "\n",
        "# doing the calculation in a function\n",
        "def to_fahrenheit(C):\n",
        "  F = (9/5) * C + 32\n",
        "  return F\n",
        "\n",
        "to_fahrenheit(C)\n",
        "print(f\"{C} degrees Celcius converts to {to_fahrenheit(C)} degrees Fahrenheit.\")"
      ],
      "metadata": {
        "colab": {
          "base_uri": "https://localhost:8080/"
        },
        "id": "qxcmwEVp8u-f",
        "outputId": "743c1060-9253-47e4-f667-a3a3aad0b8bd"
      },
      "execution_count": null,
      "outputs": [
        {
          "output_type": "stream",
          "name": "stdout",
          "text": [
            "Enter a degree of Celcius: 10\n",
            "10 degrees Celcius converts to 50.0 degrees Fahrenheit.\n"
          ]
        }
      ]
    },
    {
      "cell_type": "code",
      "source": [
        "# part 4 - Corn Production Report\n",
        "\n",
        "#importing for table format\n",
        "from tabulate import tabulate\n",
        "\n",
        "# asking for input names\n",
        "farmer1_lastname = input(\"Enter farmer #1 name: \")\n",
        "farmer1_corn = float(input(\"Enter the number of acres of corn: \"))\n",
        "farmer1_bush = float(input(\"Enter the number of bushels: \"))\n",
        "yield1 = farmer1_corn * farmer1_bush\n",
        "\n",
        "farmer2_lastname = input(\"Enter farmer #2 name: \")\n",
        "farmer2_corn = float(input(\"Enter the number of acres of corn: \"))\n",
        "farmer2_bush = float(input(\"Enter the number of bushels: \"))\n",
        "yield2 = farmer2_corn * farmer2_bush\n",
        "\n",
        "farmer3_lastname = input(\"Enter farmer #3 name: \")\n",
        "farmer3_corn = float(input(\"Enter the number of acres of corn: \"))\n",
        "farmer3_bush = float(input(\"Enter the number of bushels: \"))\n",
        "yield3 = farmer3_corn * farmer3_bush\n",
        "\n",
        "farmer4_lastname = input(\"Enter farmer #4 name: \")\n",
        "farmer4_corn = float(input(\"Enter the number of acres of corn: \"))\n",
        "farmer4_bush = float(input(\"Enter the number of bushels: \"))\n",
        "yield4 = farmer4_corn * farmer4_bush\n",
        "\n",
        "# make the table\n",
        "a = tabulate([[farmer1_lastname, farmer1_corn, farmer1_bush, yield1], [farmer2_lastname, farmer2_corn, farmer2_bush, yield2], [farmer3_lastname, farmer3_corn, farmer3_bush, yield3], [farmer4_lastname, farmer4_corn, farmer4_bush, yield4]], headers=['Farmer', 'Acres', 'BPA', 'Yield'], tablefmt='orgtbl')\n",
        "print(\"---------------------\")\n",
        "print(\"2020 Corn Production Results\")\n",
        "print(\"---------------------\")\n",
        "print(a)\n",
        "\n",
        "\n"
      ],
      "metadata": {
        "id": "w6_GVb-p_7sK",
        "colab": {
          "base_uri": "https://localhost:8080/"
        },
        "outputId": "5af41cf5-b738-4105-87f6-33be5b9115c5"
      },
      "execution_count": 11,
      "outputs": [
        {
          "output_type": "stream",
          "name": "stdout",
          "text": [
            "Enter farmer #1 name: eby\n",
            "Enter the number of acres of corn: 10\n",
            "Enter the number of bushels: 34\n",
            "Enter farmer #2 name: dad\n",
            "Enter the number of acres of corn: 40\n",
            "Enter the number of bushels: 31\n",
            "Enter farmer #3 name: mom\n",
            "Enter the number of acres of corn: 21\n",
            "Enter the number of bushels: 7\n",
            "Enter farmer #4 name: ad\n",
            "Enter the number of acres of corn: 13\n",
            "Enter the number of bushels: 534\n",
            "---------------------\n",
            "2020 Corn Production Results\n",
            "---------------------\n",
            "| Farmer   |   Acres |   BPA |   Yield |\n",
            "|----------+---------+-------+---------|\n",
            "| eby      |      10 |    34 |     340 |\n",
            "| dad      |      40 |    31 |    1240 |\n",
            "| mom      |      21 |     7 |     147 |\n",
            "| ad       |      13 |   534 |    6942 |\n"
          ]
        }
      ]
    }
  ]
}