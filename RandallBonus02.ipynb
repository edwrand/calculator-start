{
  "nbformat": 4,
  "nbformat_minor": 0,
  "metadata": {
    "colab": {
      "provenance": [],
      "authorship_tag": "ABX9TyMvrLC2LDoWNHCC1v7Ygbep",
      "include_colab_link": true
    },
    "kernelspec": {
      "name": "python3",
      "display_name": "Python 3"
    },
    "language_info": {
      "name": "python"
    }
  },
  "cells": [
    {
      "cell_type": "markdown",
      "metadata": {
        "id": "view-in-github",
        "colab_type": "text"
      },
      "source": [
        "<a href=\"https://colab.research.google.com/github/edwrand/randomPython/blob/main/RandallBonus02.ipynb\" target=\"_parent\"><img src=\"https://colab.research.google.com/assets/colab-badge.svg\" alt=\"Open In Colab\"/></a>"
      ]
    },
    {
      "cell_type": "code",
      "execution_count": 2,
      "metadata": {
        "id": "8wj2l2q-7qb4",
        "colab": {
          "base_uri": "https://localhost:8080/"
        },
        "outputId": "82d3bd0e-60ff-4b50-c10c-e5b1055d3e55"
      },
      "outputs": [
        {
          "output_type": "stream",
          "name": "stdout",
          "text": [
            "Mode values 1: [20, 14]\n",
            "Mode values 2: [12, 21]\n"
          ]
        }
      ],
      "source": [
        "# bonus project 2 for Python Class\n",
        "# Edward Randall\n",
        "\n",
        "# find mode problem #1\n",
        "def find_mode(a_list):\n",
        "    # Create an empty dictionary to store the count of each value\n",
        "    count_dict = {}\n",
        "    \n",
        "    # Loop over each value in the input list and increment its count in the dictionary\n",
        "    for value in a_list:\n",
        "        if value in count_dict:\n",
        "            count_dict[value] += 1\n",
        "        else:\n",
        "            count_dict[value] = 1\n",
        "    \n",
        "    # Find the maximum count among all values in the dictionary\n",
        "    max_count = max(count_dict.values())\n",
        "    \n",
        "    # Initialize an empty list to store the mode values\n",
        "    mode_list = []\n",
        "    \n",
        "    # Loop over the dictionary and append any value with a count equal to the maximum count\n",
        "    for key, value in count_dict.items():\n",
        "        if value == max_count:\n",
        "            mode_list.append(key)\n",
        "    \n",
        "    # Return the list of mode values\n",
        "    return mode_list\n",
        "\n",
        "# Test the function with the example lists from the prompt\n",
        "test_list1 = [20, 12, 20, 25, 12, 14, 32, 74, 14, 18, 14, 20]\n",
        "mode_values1 = find_mode(test_list1)\n",
        "print(\"Mode values 1:\", mode_values1)\n",
        "\n",
        "test_list2 = [12, 21, 4, 22, 33, 12, 21, 24, 12, 23, 18, 21]\n",
        "mode_values2 = find_mode(test_list2)\n",
        "print(\"Mode values 2:\", mode_values2)\n"
      ]
    },
    {
      "cell_type": "code",
      "source": [
        "# Bonus problem number 2\n",
        "\n",
        "# palindrome function\n",
        "def is_palindrome(s):\n",
        "    # Convert the input string to lowercase and remove spaces and punctuation\n",
        "    s = s.lower()\n",
        "    s = \"\".join(c for c in s if c.isalnum())\n",
        "    \n",
        "    # Check if the string is equal to its reverse\n",
        "    return s == s[::-1]\n",
        "\n",
        "# main function\n",
        "def main():\n",
        "    test_string = \"Able was I, ere I saw Elba\"\n",
        "    if is_palindrome(test_string):\n",
        "        print(test_string, \"is a palindrome.\")\n",
        "    else:\n",
        "        print(test_string, \"is not a palindrome.\")\n",
        "\n",
        "if __name__ == \"__main__\":\n",
        "    main()"
      ],
      "metadata": {
        "id": "LVCpu40Z8NfC",
        "colab": {
          "base_uri": "https://localhost:8080/"
        },
        "outputId": "faab03cb-7ae7-408c-fe93-fec02dbfad7c"
      },
      "execution_count": 6,
      "outputs": [
        {
          "output_type": "stream",
          "name": "stdout",
          "text": [
            "Able was I, ere I saw Elba is a palindrome.\n"
          ]
        }
      ]
    }
  ]
}