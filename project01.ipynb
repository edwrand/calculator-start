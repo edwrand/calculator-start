{
  "nbformat": 4,
  "nbformat_minor": 0,
  "metadata": {
    "colab": {
      "provenance": [],
      "authorship_tag": "ABX9TyMTXCfm2ZVhCTgfj9h/MEus",
      "include_colab_link": true
    },
    "kernelspec": {
      "name": "python3",
      "display_name": "Python 3"
    },
    "language_info": {
      "name": "python"
    }
  },
  "cells": [
    {
      "cell_type": "markdown",
      "metadata": {
        "id": "view-in-github",
        "colab_type": "text"
      },
      "source": [
        "<a href=\"https://colab.research.google.com/github/edwrand/randomPython/blob/main/project01.ipynb\" target=\"_parent\"><img src=\"https://colab.research.google.com/assets/colab-badge.svg\" alt=\"Open In Colab\"/></a>"
      ]
    },
    {
      "cell_type": "code",
      "execution_count": null,
      "metadata": {
        "id": "PH9DWYbx0weP"
      },
      "outputs": [],
      "source": [
        "# project01\n",
        "# part 1 - Word Game\n",
        "\n",
        "first_name = input(\"Enter your first name: \")\n",
        "last_name = input(\"Enter your last name: \")\n",
        "age = int(input(\"Enter your age: \"))\n",
        "city = input(\"What city are you in?:  \")\n",
        "college = input(\"What school are you in?:  \")\n",
        "profession = input(\"What is your profession?:  \")\n",
        "animal = input(\"Enter the name of an animal:  \")\n",
        "pet = input(\"Enter a pet name:  \")\n",
        "\n",
        "# printing using the input values\n",
        "print(f\"There once was a person named {first_name} {last_name} who lived in {city}. At the age of {age}, {first_name} went to college at {college}. {first_name} graduated and went to work as a {profession}. Then, {first_name} adopted a(n) {animal} named {pet}. They both lived happily ever after!\")"
      ]
    },
    {
      "cell_type": "code",
      "source": [
        "# part 2 - Cost of Tuition\n",
        "\n",
        "start_year = int(input(\"What year did you start college?: \"))\n",
        "projected_final_year = start_year + 4\n",
        "\n",
        "# asking the user for inputs\n",
        "print(\"Please input the cost of 1 year for each item\")\n",
        "tuition = int(input(\"How much is tuition yearly? $\"))\n",
        "fees = int(input(\"How much are fees yearly? $\"))\n",
        "dorm_room = int(input(\"How much is housing yearly? $\"))\n",
        "dining_hall = int(input(\"How much is dining yearly? $\"))\n",
        "books = int(input(\"How much are books yearly? $\"))\n",
        "\n",
        "# calc a year and 4 years\n",
        "year_cost = tuition + fees + dorm_room + dining_hall + books\n",
        "four_years = year_cost * 4\n",
        "\n",
        "# what is the cost of last 2 years at TCU?\n",
        "two_year_cost = year_cost * 2\n",
        "print(f\"One year costs ${year_cost}.\")\n",
        "print(f\"Two years cost ${two_year_cost}.\")\n",
        "\n",
        "# function\n",
        "def how_long_pay_back(two_year_cost):\n",
        "  months = two_year_cost / 500\n",
        "  return months\n",
        "\n",
        "# print out the number of months it takes to pay back the loan\\\n",
        "print(f\"It will take you {how_long_pay_back(two_year_cost)} months to pay back your loan.\")"
      ],
      "metadata": {
        "colab": {
          "base_uri": "https://localhost:8080/"
        },
        "id": "KFqV5tyd2hgz",
        "outputId": "8ca149f9-7287-40d4-917d-00206d39fc37"
      },
      "execution_count": 9,
      "outputs": [
        {
          "output_type": "stream",
          "name": "stdout",
          "text": [
            "What year did you start college?: 2018\n",
            "Please input the cost of 1 year for each item\n",
            "How much is tuition yearly? $57000\n",
            "How much are fees yearly? $800\n",
            "How much is housing yearly? $8700\n",
            "How much is dining yearly? $6100\n",
            "How much are books yearly? $900\n",
            "One year costs $73500.\n",
            "Two years cost $147000.\n",
            "It will take you 294.0 months to pay back your loan.\n"
          ]
        }
      ]
    },
    {
      "cell_type": "code",
      "source": [
        "# part 3 - Celcius to Fahrenheit Converter\n",
        "C = int(input(\"Enter a degree of Celcius: \"))\n",
        "\n",
        "# doing the calculation in a function\n",
        "def to_fahrenheit(C):\n",
        "  F = (9/5) * C + 32\n",
        "  return F\n",
        "\n",
        "to_fahrenheit(C)\n",
        "print(f\"{C} degrees Celcius converts to {to_fahrenheit(C)} degrees Fahrenheit.\")"
      ],
      "metadata": {
        "colab": {
          "base_uri": "https://localhost:8080/"
        },
        "id": "qxcmwEVp8u-f",
        "outputId": "743c1060-9253-47e4-f667-a3a3aad0b8bd"
      },
      "execution_count": 12,
      "outputs": [
        {
          "output_type": "stream",
          "name": "stdout",
          "text": [
            "Enter a degree of Celcius: 10\n",
            "10 degrees Celcius converts to 50.0 degrees Fahrenheit.\n"
          ]
        }
      ]
    }
  ]
}