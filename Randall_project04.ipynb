{
  "nbformat": 4,
  "nbformat_minor": 0,
  "metadata": {
    "colab": {
      "provenance": [],
      "authorship_tag": "ABX9TyMDsqkPFYJ16TZ1v7LAaVmx"
    },
    "kernelspec": {
      "name": "python3",
      "display_name": "Python 3"
    },
    "language_info": {
      "name": "python"
    }
  },
  "cells": [
    {
      "cell_type": "code",
      "execution_count": 7,
      "metadata": {
        "colab": {
          "base_uri": "https://localhost:8080/"
        },
        "id": "6E2Mnltz7kj5",
        "outputId": "e0f2093b-95cc-4cf4-ca89-75752497605d"
      },
      "outputs": [
        {
          "output_type": "stream",
          "name": "stdout",
          "text": [
            "Amicable pair found: (220, 284)\n"
          ]
        }
      ],
      "source": [
        "# part 1 amicable number finder\n",
        "\n",
        "def sum_of_proper_divisors(n):\n",
        "    \"\"\"\n",
        "    This function returns the sum of proper divisors of an integer.\n",
        "    \"\"\"\n",
        "    divisors = [1]\n",
        "    for i in range(2, n):\n",
        "        if n % i == 0:\n",
        "            divisors.append(i)\n",
        "    return sum(divisors)\n",
        "\n",
        "def main():\n",
        "    \"\"\"\n",
        "    This function calls the sum_of_proper_divisors function and outputs all the discovered\n",
        "    pairs of amicable numbers between 200 and 400.\n",
        "    \"\"\"\n",
        "    for i in range(200, 401):\n",
        "        sum_divisors_i = sum_of_proper_divisors(i)\n",
        "        for j in range(i+1, 401):\n",
        "            if sum_divisors_i == j and sum_of_proper_divisors(j) == i:\n",
        "                print(\"Amicable pair found: ({}, {})\".format(i, j))\n",
        "\n",
        "# call main function which calls sum_of_proper_divisors(n)\n",
        "main()"
      ]
    },
    {
      "cell_type": "code",
      "source": [
        "# part 2 monte carlo simulator\n",
        "\n",
        "import random\n",
        "\n",
        "# roll two dice 1000 times and store the sums in a list\n",
        "sums = [random.randint(1, 6) + random.randint(1, 6) for i in range(1000)]\n",
        "\n",
        "# count the number of occurrences for each sum\n",
        "occurrences = [sums.count(i) for i in range(2, 13)]\n",
        "\n",
        "# print the results using a histogram\n",
        "print(\"Rolling 2 dice 1000 times.\")\n",
        "print(\"Sum: Number of Occurrences\")\n",
        "for i in range(2, 13):\n",
        "    print(f\"{i}: {occurrences[i-2]:<3}\", \"*\" * (occurrences[i-2] // 10))"
      ],
      "metadata": {
        "colab": {
          "base_uri": "https://localhost:8080/"
        },
        "id": "PyQ2ZOIt-nQY",
        "outputId": "3e08c290-936d-4cef-842b-e1e9db82c1f7"
      },
      "execution_count": 6,
      "outputs": [
        {
          "output_type": "stream",
          "name": "stdout",
          "text": [
            "Rolling 2 dice 1000 times.\n",
            "Sum: Number of Occurrences\n",
            "2: 26  **\n",
            "3: 43  ****\n",
            "4: 91  *********\n",
            "5: 121 ************\n",
            "6: 160 ****************\n",
            "7: 155 ***************\n",
            "8: 141 **************\n",
            "9: 113 ***********\n",
            "10: 66  ******\n",
            "11: 58  *****\n",
            "12: 26  **\n"
          ]
        }
      ]
    }
  ]
}