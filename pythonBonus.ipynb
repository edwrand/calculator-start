{
  "nbformat": 4,
  "nbformat_minor": 0,
  "metadata": {
    "colab": {
      "provenance": [],
      "authorship_tag": "ABX9TyNlOs5wuGaThP/lcFm7hjmw"
    },
    "kernelspec": {
      "name": "python3",
      "display_name": "Python 3"
    },
    "language_info": {
      "name": "python"
    }
  },
  "cells": [
    {
      "cell_type": "code",
      "execution_count": 1,
      "metadata": {
        "colab": {
          "base_uri": "https://localhost:8080/"
        },
        "id": "98Mbk_o6DwyH",
        "outputId": "83a7be42-145f-4381-e213-46a5a5fde026"
      },
      "outputs": [
        {
          "output_type": "stream",
          "name": "stdout",
          "text": [
            "Enter a number between 0 and 10068\n",
            "******\n"
          ]
        }
      ],
      "source": [
        "# bonus assignment 1 for Python\n",
        "\n",
        "# part 1 - star pattern\n",
        "\n",
        "number = int(input(\"Enter a number between 0 and 100\"))\n",
        "\n",
        "if number >= 0 and number <= 9:\n",
        "  print(\"*\")\n",
        "elif number >= 10 and number <= 19:\n",
        "  print(\"**\")\n",
        "elif number >= 20 and number <= 29:\n",
        "  print(\"***\")\n",
        "elif number >= 30 and number <= 39:\n",
        "  print(\"****\")\n",
        "elif number >= 40 and number <= 49:\n",
        "  print(\"*****\")\n",
        "elif number >= 50 and number <= 59:\n",
        "  print(\"******\")\n",
        "elif number >= 60 and number <= 69:\n",
        "  print(\"******\")\n",
        "elif number >= 70 and number <= 79:\n",
        "  print(\"********\")\n",
        "elif number >= 80 and number <= 89:\n",
        "  print(\"*********\")\n",
        "elif number >= 90 and number <= 99:\n",
        "  print(\"**********\")\n",
        "else:\n",
        "  print(\"Error\")"
      ]
    },
    {
      "cell_type": "code",
      "source": [
        "# part 2 - number guessing game\n",
        "\n",
        "import random\n",
        "\n",
        "# generate a random number between 1 and 100\n",
        "secret_number = random.randint(1, 100)\n",
        "\n",
        "# initialize the previous guess to None\n",
        "previous_guess = None\n",
        "\n",
        "# loop until the user guesses the correct number\n",
        "while True:\n",
        "    # get user input and validate it\n",
        "    while True:\n",
        "        try:\n",
        "            guess = int(input(\"Guess the secret number (between 1 and 100): \"))\n",
        "            if 1 <= guess <= 100:\n",
        "                break\n",
        "            else:\n",
        "                print(\"Invalid input. Please enter a number between 1 and 100.\")\n",
        "        except ValueError:\n",
        "            print(\"Invalid input. Please enter a number between 1 and 100.\")\n",
        "\n",
        "    # provide feedback on the user's guess\n",
        "    if previous_guess is None:\n",
        "        print(\"Not bad for your first try.\")\n",
        "    elif abs(guess - secret_number) < abs(previous_guess - secret_number):\n",
        "        print(\"You're getting warmer.\")\n",
        "    else:\n",
        "        print(\"You're getting colder.\")\n",
        "\n",
        "    # check if the user has won\n",
        "    if guess == secret_number:\n",
        "        print(\"Congratulations! You guessed the secret number.\")\n",
        "        break\n",
        "    elif abs(guess - secret_number) == 1:\n",
        "        print(\"You're incredibly hot!\")\n",
        "\n",
        "    # update the previous guess\n",
        "    previous_guess = guess"
      ],
      "metadata": {
        "colab": {
          "base_uri": "https://localhost:8080/"
        },
        "id": "cH5Mrm6zF1Uk",
        "outputId": "0feb6ea5-7254-42f3-f02b-5ceb5a3a562b"
      },
      "execution_count": 2,
      "outputs": [
        {
          "output_type": "stream",
          "name": "stdout",
          "text": [
            "Guess the secret number (between 1 and 100): 4\n",
            "Not bad for your first try.\n",
            "Guess the secret number (between 1 and 100): 99\n",
            "You're getting warmer.\n",
            "You're incredibly hot!\n",
            "Guess the secret number (between 1 and 100): 98\n",
            "You're getting warmer.\n",
            "Congratulations! You guessed the secret number.\n"
          ]
        }
      ]
    }
  ]
}