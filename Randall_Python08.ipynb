{
  "nbformat": 4,
  "nbformat_minor": 0,
  "metadata": {
    "colab": {
      "provenance": [],
      "authorship_tag": "ABX9TyPVFf0Ur3MSqnjeWcpL5oDl",
      "include_colab_link": true
    },
    "kernelspec": {
      "name": "python3",
      "display_name": "Python 3"
    },
    "language_info": {
      "name": "python"
    }
  },
  "cells": [
    {
      "cell_type": "markdown",
      "metadata": {
        "id": "view-in-github",
        "colab_type": "text"
      },
      "source": [
        "<a href=\"https://colab.research.google.com/github/edwrand/randomPython/blob/main/Randall_Python08.ipynb\" target=\"_parent\"><img src=\"https://colab.research.google.com/assets/colab-badge.svg\" alt=\"Open In Colab\"/></a>"
      ]
    },
    {
      "cell_type": "code",
      "execution_count": null,
      "metadata": {
        "colab": {
          "base_uri": "https://localhost:8080/"
        },
        "id": "Ess5H_nbgjrw",
        "outputId": "b03400c7-2a69-4ac0-ef69-07bcf658c0c0"
      },
      "outputs": [
        {
          "output_type": "stream",
          "name": "stdout",
          "text": [
            "Which patient do you want to lookup? 20\n",
            "The max inflammation for the 20th patient: 19.0\n",
            "The max inflammation for the 20th patient was reached at day: 21\n",
            "The min inflammation for the 20th patient: 0.0\n",
            "The min inflammation for the 20th patient was reached at day: 0\n",
            "The average inflammation for the 20th patient: 6.55\n",
            "The standard deviation inflammation for the 20th patient: 5.16\n",
            "The variance inflammation for the 20th patient: 26.61\n",
            "The mode inflammation value for the 20th patient is 1.0, and it appeared in 6 days.\n"
          ]
        },
        {
          "output_type": "stream",
          "name": "stderr",
          "text": [
            "<ipython-input-2-8ea63d1cec61>:24: FutureWarning: Unlike other reduction functions (e.g. `skew`, `kurtosis`), the default behavior of `mode` typically preserves the axis it acts along. In SciPy 1.11.0, this behavior will change: the default value of `keepdims` will become False, the `axis` over which the statistic is taken will be eliminated, and the value None will no longer be accepted. Set `keepdims` to True or False to avoid this warning.\n",
            "  mode_inflammation = mode(patient_data)\n"
          ]
        }
      ],
      "source": [
        "# coding homework #8 for Python class\n",
        "\n",
        "import numpy as np\n",
        "from scipy.stats import mode\n",
        "\n",
        "# Load the CSV file\n",
        "# assuming the file is in the same directory\n",
        "data = np.loadtxt('inflammation-01.csv', delimiter=',')\n",
        "\n",
        "# Prompt the user for a patient number\n",
        "patient_number = int(input(\"Which patient do you want to lookup? \"))\n",
        "\n",
        "# Calculate statistics for the nth patient\n",
        "patient_data = data[patient_number - 1]\n",
        "\n",
        "max_inflammation = np.max(patient_data)\n",
        "max_inflammation_day = np.argmax(patient_data)\n",
        "min_inflammation = np.min(patient_data)\n",
        "min_inflammation_day = np.argmin(patient_data)\n",
        "mean_inflammation = np.mean(patient_data)\n",
        "std_dev_inflammation = np.std(patient_data, ddof=1)  # Using sample-based standard deviation\n",
        "variance_inflammation = np.var(patient_data, ddof=1)\n",
        "\n",
        "mode_inflammation = mode(patient_data)\n",
        "\n",
        "# Display the statistics\n",
        "print(f\"The max inflammation for the {patient_number}th patient: {max_inflammation}\")\n",
        "print(f\"The max inflammation for the {patient_number}th patient was reached at day: {max_inflammation_day}\")\n",
        "print(f\"The min inflammation for the {patient_number}th patient: {min_inflammation}\")\n",
        "print(f\"The min inflammation for the {patient_number}th patient was reached at day: {min_inflammation_day}\")\n",
        "print(f\"The average inflammation for the {patient_number}th patient: {mean_inflammation:.2f}\")\n",
        "print(f\"The standard deviation inflammation for the {patient_number}th patient: {std_dev_inflammation:.2f}\")\n",
        "print(f\"The variance inflammation for the {patient_number}th patient: {variance_inflammation:.2f}\")\n",
        "print(f\"The mode inflammation value for the {patient_number}th patient is {mode_inflammation.mode[0]}, and it appeared in {mode_inflammation.count[0]} days.\")\n"
      ]
    },
    {
      "cell_type": "code",
      "source": [
        "import pandas as pd\n",
        "from scipy.stats import mode\n",
        "\n",
        "# Load the CSV file\n",
        "url = \"http://csfaculty.tcu.edu/ma/cosc10603/data/inflammation-01.csv\"\n",
        "df = pd.read_csv(url, header=None)\n",
        "\n",
        "# Prompt the user for a patient number\n",
        "patient_number = int(input(\"Which patient do you want to lookup? \"))\n",
        "\n",
        "# Calculate statistics for the nth patient\n",
        "patient_data = df.iloc[patient_number - 1]\n",
        "\n",
        "max_inflammation = patient_data.max()\n",
        "max_inflammation_day = patient_data.idxmax()\n",
        "min_inflammation = patient_data.min()\n",
        "min_inflammation_day = patient_data.idxmin()\n",
        "mean_inflammation = patient_data.mean()\n",
        "std_dev_inflammation = patient_data.std()  # Using population-based standard deviation\n",
        "variance_inflammation = patient_data.var()\n",
        "\n",
        "mode_inflammation = mode(patient_data, keepdims=False)\n",
        "\n",
        "# Display the statistics\n",
        "print(f\"The max inflammation for the {patient_number}th patient: {max_inflammation}\")\n",
        "print(f\"The max inflammation for the {patient_number}th patient was reached at day: {max_inflammation_day}\")\n",
        "print(f\"The min inflammation for the {patient_number}th patient: {min_inflammation}\")\n",
        "print(f\"The min inflammation for the {patient_number}th patient was reached at day: {min_inflammation_day}\")\n",
        "print(f\"The average inflammation for the {patient_number}th patient: {mean_inflammation:.2f}\")\n",
        "print(f\"The standard deviation inflammation for the {patient_number}th patient: {std_dev_inflammation:.2f}\")\n",
        "print(f\"The variance inflammation for the {patient_number}th patient: {variance_inflammation:.2f}\")\n",
        "print(f\"The mode inflammation value for the {patient_number}th patient is {mode_inflammation.mode}, and it appeared in {mode_inflammation.count} days.\")"
      ],
      "metadata": {
        "colab": {
          "base_uri": "https://localhost:8080/"
        },
        "id": "0KBoW5wmhTGJ",
        "outputId": "fc94d881-3a4f-43e2-80bb-603c33aab4fe"
      },
      "execution_count": null,
      "outputs": [
        {
          "output_type": "stream",
          "name": "stdout",
          "text": [
            "Which patient do you want to lookup? 20\n",
            "The max inflammation for the 20th patient: 19\n",
            "The max inflammation for the 20th patient was reached at day: 21\n",
            "The min inflammation for the 20th patient: 0\n",
            "The min inflammation for the 20th patient was reached at day: 0\n",
            "The average inflammation for the 20th patient: 6.55\n",
            "The standard deviation inflammation for the 20th patient: 5.16\n",
            "The variance inflammation for the 20th patient: 26.61\n",
            "The mode inflammation value for the 20th patient is 1, and it appeared in 6 days.\n"
          ]
        }
      ]
    }
  ]
}