{
  "nbformat": 4,
  "nbformat_minor": 0,
  "metadata": {
    "colab": {
      "provenance": [],
      "authorship_tag": "ABX9TyODaIJLTBPDDole6CXU1SCM",
      "include_colab_link": true
    },
    "kernelspec": {
      "name": "python3",
      "display_name": "Python 3"
    },
    "language_info": {
      "name": "python"
    }
  },
  "cells": [
    {
      "cell_type": "markdown",
      "metadata": {
        "id": "view-in-github",
        "colab_type": "text"
      },
      "source": [
        "<a href=\"https://colab.research.google.com/github/edwrand/randomPython/blob/main/Randall_PH3.ipynb\" target=\"_parent\"><img src=\"https://colab.research.google.com/assets/colab-badge.svg\" alt=\"Open In Colab\"/></a>"
      ]
    },
    {
      "cell_type": "code",
      "execution_count": 2,
      "metadata": {
        "id": "b5tn3gjU3_ol",
        "colab": {
          "base_uri": "https://localhost:8080/"
        },
        "outputId": "ebae53cd-cbf8-44e4-d82f-e831a92ba727"
      },
      "outputs": [
        {
          "output_type": "stream",
          "name": "stdout",
          "text": [
            "Enter an integer greater than 0: 12\n",
            "Enter an integer greater than 0: 4\n",
            "The two integers have 3 common divisor(s): [1, 2, 4]\n"
          ]
        }
      ],
      "source": [
        "'''\n",
        "Write a program that will prompt the user to input two integers, each of which is greater than 0. If\n",
        "either integer is less than 0, tell the user there is a problem and then prompt them for the integer\n",
        "again. Next, the program will display and count the number of divisors that the two integers have\n",
        "in common.\n",
        "Example output: Here is (partial) sample output from my implementation to give you an idea\n",
        "of what you are trying to achieve. Your program does not need to match this output exactly.\n",
        "'''\n",
        "\n",
        "# inputs\n",
        "num1 = int(input(\"Enter an integer greater than 0: \"))\n",
        "num2 = int(input(\"Enter an integer greater than 0: \"))\n",
        "\n",
        "# checking if inputs are above 0 then do some operations\n",
        "if num1 > 0 and num2 > 0:\n",
        "  # Find common divisors\n",
        "  common_divisors = []\n",
        "  for i in range(1, min(num1, num2) + 1):\n",
        "    if num1 % i == 0 and num2 % i == 0:\n",
        "        common_divisors.append(i)\n",
        "\n",
        "  # Print number of common divisors\n",
        "  num_common_divisors = len(common_divisors)\n",
        "  print(f\"The two integers have {num_common_divisors} common divisor(s): {common_divisors}\")\n",
        "\n",
        "else:\n",
        "  print(\"You did not enter numbers above 0. Try again\")"
      ]
    },
    {
      "cell_type": "code",
      "source": [
        "# part 2\n",
        "\n",
        "def sum_proper_divisors(num):\n",
        "    \"\"\"Calculate and return the sum of the proper divisors of num.\"\"\"\n",
        "    divisors = [1]\n",
        "    for i in range(2, int(num ** 0.5) + 1):\n",
        "        if num % i == 0:\n",
        "            divisors.append(i)\n",
        "            if num // i != i:\n",
        "                divisors.append(num // i)\n",
        "    return sum(divisors)\n",
        "\n",
        "# Prompt user for two integers\n",
        "num1 = int(input(\"Enter the first integer (greater than 10): \"))\n",
        "num2 = int(input(\"Enter the second integer (greater than 10): \"))\n",
        "\n",
        "# Find and output all abundant numbers\n",
        "abundant_nums = []\n",
        "for num in range(num1, num2 + 1):\n",
        "    if sum_proper_divisors(num) > num:\n",
        "        abundance = sum_proper_divisors(num) - num\n",
        "        print(f\"{num} is an abundant number with an abundance of {abundance}\")\n",
        "        abundant_nums.append(num)\n",
        "\n",
        "# Find and output the highest abundant number\n",
        "if abundant_nums:\n",
        "    highest_abundant_num = max(abundant_nums)\n",
        "    print(f\"The highest abundant number is {highest_abundant_num}\")\n",
        "else:\n",
        "    print(\"There are no abundant numbers in the given range.\")"
      ],
      "metadata": {
        "colab": {
          "base_uri": "https://localhost:8080/"
        },
        "id": "qDpRRGHFNCQd",
        "outputId": "7e35cfba-0fb9-45f9-f31b-b30f91367047"
      },
      "execution_count": 7,
      "outputs": [
        {
          "output_type": "stream",
          "name": "stdout",
          "text": [
            "Enter the first integer (greater than 10): 10\n",
            "Enter the second integer (greater than 10): 30\n",
            "12 is an abundant number with an abundance of 4\n",
            "18 is an abundant number with an abundance of 3\n",
            "20 is an abundant number with an abundance of 2\n",
            "24 is an abundant number with an abundance of 12\n",
            "30 is an abundant number with an abundance of 12\n",
            "The highest abundant number is 30\n"
          ]
        }
      ]
    },
    {
      "cell_type": "code",
      "source": [
        "# part 3\n",
        "\n",
        "k = 0\n",
        "pi = 0\n",
        "sign = 1\n",
        "\n",
        "while k <= 100000:\n",
        "    pi += sign * 4 / (2 * k + 1)\n",
        "    if k % 10000 == 0:\n",
        "        print(f\"{k:5d} {pi:.10f}\")\n",
        "    sign *= -1\n",
        "    k += 1\n",
        "\n",
        "print(f\"{k-1:5d} {pi:.10f}\")\n",
        "\n",
        "\n"
      ],
      "metadata": {
        "colab": {
          "base_uri": "https://localhost:8080/"
        },
        "id": "vFNhXv42PutD",
        "outputId": "37ec6ca0-dc75-42bb-b565-43e788634f76"
      },
      "execution_count": 10,
      "outputs": [
        {
          "output_type": "stream",
          "name": "stdout",
          "text": [
            "    0 4.0000000000\n",
            "10000 3.1416926436\n",
            "20000 3.1416426511\n",
            "30000 3.1416259858\n",
            "40000 3.1416176530\n",
            "50000 3.1416126532\n",
            "60000 3.1416093200\n",
            "70000 3.1416069391\n",
            "80000 3.1416051534\n",
            "90000 3.1416037646\n",
            "100000 3.1416026535\n",
            "100000 3.1416026535\n"
          ]
        }
      ]
    }
  ]
}