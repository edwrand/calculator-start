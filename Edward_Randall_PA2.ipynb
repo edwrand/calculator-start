{
  "nbformat": 4,
  "nbformat_minor": 0,
  "metadata": {
    "colab": {
      "provenance": [],
      "authorship_tag": "ABX9TyNvSwwOZpAgr4N0bXekpDWB",
      "include_colab_link": true
    },
    "kernelspec": {
      "name": "python3",
      "display_name": "Python 3"
    },
    "language_info": {
      "name": "python"
    }
  },
  "cells": [
    {
      "cell_type": "markdown",
      "metadata": {
        "id": "view-in-github",
        "colab_type": "text"
      },
      "source": [
        "<a href=\"https://colab.research.google.com/github/edwrand/randomPython/blob/main/Edward_Randall_PA2.ipynb\" target=\"_parent\"><img src=\"https://colab.research.google.com/assets/colab-badge.svg\" alt=\"Open In Colab\"/></a>"
      ]
    },
    {
      "cell_type": "code",
      "execution_count": 19,
      "metadata": {
        "colab": {
          "base_uri": "https://localhost:8080/"
        },
        "id": "h2RjrCn7B-Mm",
        "outputId": "df541d2f-1002-47f4-b21a-c0eda94dfcbc"
      },
      "outputs": [
        {
          "output_type": "stream",
          "name": "stdout",
          "text": [
            "Enter a string of even length and at least 8 chars: abcdefghijklmnop\n",
            "Please enter a number between 1 and 16: 2\n",
            "acdefghijklmnop\n",
            "hij\n"
          ]
        }
      ],
      "source": [
        "from ctypes import string_at\n",
        "# part 1: String Manipulator\n",
        "\n",
        "# prompt user for a string of even length and longer than 7\n",
        "string = input(\"Enter a string of even length and at least 8 chars: \")\n",
        "if len(string) < 8 or len(string) % 2 != 0:\n",
        "    print(\"Invalid input: string must have even length and be at least 8 characters long.\")\n",
        "else:\n",
        "    # prompt user for a number n between 1 and the length of the string\n",
        "    n = int(input(f\"Please enter a number between 1 and {len(string)}: \"))\n",
        "    if n < 1 or n > len(string):\n",
        "        print(f\"Invalid input: number must be between 1 and {len(string)}.\")\n",
        "    else:\n",
        "        # remove the nth character from the string and display the result\n",
        "        new_string = string[:n-1] + string[n:]\n",
        "        print(new_string)\n",
        "        middle_string = new_string[len(new_string)//2-1:len(new_string)//2+2]\n",
        "        print(middle_string)"
      ]
    },
    {
      "cell_type": "code",
      "source": [
        "# Part 2: Roulette Wheel game\n",
        "\n",
        "# user inputs\n",
        "print(\"Welcome to the Roulette Wheel Game\")\n",
        "user_input = int(input(\"Enter a number between 0 and 36: \"))\n",
        "\n",
        "# super nested ifs to determine the colors of the spaces\n",
        "# I could rewrite much of this as one function call but I am lazy rn and the exercise is to practice nesting if statements\n",
        "if user_input > 36 or user_input <= -1:\n",
        "  print(\"Invalid Input\")\n",
        "else:\n",
        "  if user_input >= 1 and user_input <= 10:\n",
        "    if user_input % 2 == 0:\n",
        "      print(\"Black\")\n",
        "    else:\n",
        "      print(\"Red\")\n",
        "  elif user_input >= 11 and user_input <= 18:\n",
        "    if user_input % 2 == 0:\n",
        "      print(\"Red\")\n",
        "    else:\n",
        "      print(\"Black\")\n",
        "  elif user_input >= 19 and user_input <= 28:\n",
        "    if user_input % 2 == 0:\n",
        "      print(\"Black\")\n",
        "    else:\n",
        "      print(\"Red\")\n",
        "  elif user_input >= 29 and user_input <= 36:\n",
        "    if user_input % 2 == 0:\n",
        "      print(\"Red\")\n",
        "    else:\n",
        "      print(\"Black\")\n",
        "  elif user_input == 0:\n",
        "    print(\"Green\")\n",
        "  else:\n",
        "    print(\"Something went wrong\")"
      ],
      "metadata": {
        "colab": {
          "base_uri": "https://localhost:8080/"
        },
        "id": "R-O3yPiVHSd5",
        "outputId": "46085b0b-92a1-4059-8f9a-d1d63b22fe7b"
      },
      "execution_count": 17,
      "outputs": [
        {
          "output_type": "stream",
          "name": "stdout",
          "text": [
            "Welcome to the Roulette Wheel Game\n",
            "Enter a number between 0 and 36: 9\n",
            "Red\n"
          ]
        }
      ]
    }
  ]
}